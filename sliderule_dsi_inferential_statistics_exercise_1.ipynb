{
 "cells": [
  {
   "cell_type": "markdown",
   "metadata": {},
   "source": [
    "# What is the True Normal Human Body Temperature? \n",
    "\n",
    "#### Background\n",
    "\n",
    "The mean normal body temperature was held to be 37$^{\\circ}$C or 98.6$^{\\circ}$F for more than 120 years since it was first conceptualized and reported by Carl Wunderlich in a famous 1868 book. But, is this value statistically correct?"
   ]
  },
  {
   "cell_type": "markdown",
   "metadata": {},
   "source": [
    "<h3>Exercises</h3>\n",
    "\n",
    "<p>In this exercise, you will analyze a dataset of human body temperatures and employ the concepts of hypothesis testing, confidence intervals, and statistical significance.</p>\n",
    "\n",
    "<p>Answer the following questions <b>in this notebook below and submit to your Github account</b>.</p> \n",
    "\n",
    "<ol>\n",
    "<li>  Is the distribution of body temperatures normal? \n",
    "    <ul>\n",
    "    <li> Although this is not a requirement for the Central Limit Theorem to hold (read the introduction on Wikipedia's page about the CLT carefully: https://en.wikipedia.org/wiki/Central_limit_theorem), it gives us some peace of mind that the population may also be normally distributed if we assume that this sample is representative of the population.\n",
    "    <li> Think about the way you're going to check for the normality of the distribution. Graphical methods are usually used first, but there are also other ways: https://en.wikipedia.org/wiki/Normality_test\n",
    "    </ul>\n",
    "<li>  Is the sample size large? Are the observations independent?\n",
    "    <ul>\n",
    "    <li> Remember that this is a condition for the Central Limit Theorem, and hence the statistical tests we are using, to apply.\n",
    "    </ul>\n",
    "<li>  Is the true population mean really 98.6 degrees F?\n",
    "    <ul>\n",
    "    <li> First, try a bootstrap hypothesis test.\n",
    "    <li> Now, let's try frequentist statistical testing. Would you use a one-sample or two-sample test? Why?\n",
    "    <li> In this situation, is it appropriate to use the $t$ or $z$ statistic? \n",
    "    <li> Now try using the other test. How is the result be different? Why?\n",
    "    </ul>\n",
    "<li>  Draw a small sample of size 10 from the data and repeat both frequentist tests. \n",
    "    <ul>\n",
    "    <li> Which one is the correct one to use? \n",
    "    <li> What do you notice? What does this tell you about the difference in application of the $t$ and $z$ statistic?\n",
    "    </ul>\n",
    "<li>  At what temperature should we consider someone's temperature to be \"abnormal\"?\n",
    "    <ul>\n",
    "    <li> As in the previous example, try calculating everything using the boostrap approach, as well as the frequentist approach.\n",
    "    <li> Start by computing the margin of error and confidence interval. When calculating the confidence interval, keep in mind that you should use the appropriate formula for one draw, and not N draws.\n",
    "    </ul>\n",
    "<li>  Is there a significant difference between males and females in normal temperature?\n",
    "    <ul>\n",
    "    <li> What testing approach did you use and why?\n",
    "    <li> Write a story with your conclusion in the context of the original problem.\n",
    "    </ul>\n",
    "</ol>\n",
    "\n",
    "You can include written notes in notebook cells using Markdown: \n",
    "   - In the control panel at the top, choose Cell > Cell Type > Markdown\n",
    "   - Markdown syntax: http://nestacms.com/docs/creating-content/markdown-cheat-sheet\n",
    "\n",
    "#### Resources\n",
    "\n",
    "+ Information and data sources: http://www.amstat.org/publications/jse/datasets/normtemp.txt, http://www.amstat.org/publications/jse/jse_data_archive.htm\n",
    "+ Markdown syntax: http://nestacms.com/docs/creating-content/markdown-cheat-sheet\n",
    "\n",
    "****"
   ]
  },
  {
   "cell_type": "code",
   "execution_count": 103,
   "metadata": {
    "collapsed": true
   },
   "outputs": [],
   "source": [
    "import pandas as pd\n",
    "import numpy as np\n",
    "import matplotlib.pyplot as plt\n",
    "from matplotlib.collections import LineCollection\n",
    "from IPython.core.interactiveshell import InteractiveShell\n",
    "import seaborn as sns\n",
    "from scipy import stats\n",
    "from scipy.stats import norm\n",
    "\n",
    "%matplotlib inline \n",
    "InteractiveShell.ast_node_interactivity = \"all\" \n",
    "df = pd.read_csv('data/human_body_temperature.csv')"
   ]
  },
  {
   "cell_type": "code",
   "execution_count": 104,
   "metadata": {},
   "outputs": [
    {
     "data": {
      "text/html": [
       "<div>\n",
       "<style>\n",
       "    .dataframe thead tr:only-child th {\n",
       "        text-align: right;\n",
       "    }\n",
       "\n",
       "    .dataframe thead th {\n",
       "        text-align: left;\n",
       "    }\n",
       "\n",
       "    .dataframe tbody tr th {\n",
       "        vertical-align: top;\n",
       "    }\n",
       "</style>\n",
       "<table border=\"1\" class=\"dataframe\">\n",
       "  <thead>\n",
       "    <tr style=\"text-align: right;\">\n",
       "      <th></th>\n",
       "      <th>temperature</th>\n",
       "      <th>gender</th>\n",
       "      <th>heart_rate</th>\n",
       "    </tr>\n",
       "  </thead>\n",
       "  <tbody>\n",
       "    <tr>\n",
       "      <th>0</th>\n",
       "      <td>99.3</td>\n",
       "      <td>F</td>\n",
       "      <td>68.0</td>\n",
       "    </tr>\n",
       "    <tr>\n",
       "      <th>1</th>\n",
       "      <td>98.4</td>\n",
       "      <td>F</td>\n",
       "      <td>81.0</td>\n",
       "    </tr>\n",
       "    <tr>\n",
       "      <th>2</th>\n",
       "      <td>97.8</td>\n",
       "      <td>M</td>\n",
       "      <td>73.0</td>\n",
       "    </tr>\n",
       "    <tr>\n",
       "      <th>3</th>\n",
       "      <td>99.2</td>\n",
       "      <td>F</td>\n",
       "      <td>66.0</td>\n",
       "    </tr>\n",
       "    <tr>\n",
       "      <th>4</th>\n",
       "      <td>98.0</td>\n",
       "      <td>F</td>\n",
       "      <td>73.0</td>\n",
       "    </tr>\n",
       "  </tbody>\n",
       "</table>\n",
       "</div>"
      ],
      "text/plain": [
       "   temperature gender  heart_rate\n",
       "0         99.3      F        68.0\n",
       "1         98.4      F        81.0\n",
       "2         97.8      M        73.0\n",
       "3         99.2      F        66.0\n",
       "4         98.0      F        73.0"
      ]
     },
     "execution_count": 104,
     "metadata": {},
     "output_type": "execute_result"
    },
    {
     "name": "stdout",
     "output_type": "stream",
     "text": [
      "<class 'pandas.core.frame.DataFrame'>\n",
      "RangeIndex: 130 entries, 0 to 129\n",
      "Data columns (total 3 columns):\n",
      "temperature    130 non-null float64\n",
      "gender         130 non-null object\n",
      "heart_rate     130 non-null float64\n",
      "dtypes: float64(2), object(1)\n",
      "memory usage: 3.1+ KB\n"
     ]
    },
    {
     "data": {
      "text/plain": [
       "(130, 3)"
      ]
     },
     "execution_count": 104,
     "metadata": {},
     "output_type": "execute_result"
    },
    {
     "data": {
      "text/plain": [
       "temperature    0\n",
       "gender         0\n",
       "heart_rate     0\n",
       "dtype: int64"
      ]
     },
     "execution_count": 104,
     "metadata": {},
     "output_type": "execute_result"
    },
    {
     "data": {
      "text/html": [
       "<div>\n",
       "<style>\n",
       "    .dataframe thead tr:only-child th {\n",
       "        text-align: right;\n",
       "    }\n",
       "\n",
       "    .dataframe thead th {\n",
       "        text-align: left;\n",
       "    }\n",
       "\n",
       "    .dataframe tbody tr th {\n",
       "        vertical-align: top;\n",
       "    }\n",
       "</style>\n",
       "<table border=\"1\" class=\"dataframe\">\n",
       "  <thead>\n",
       "    <tr style=\"text-align: right;\">\n",
       "      <th></th>\n",
       "      <th>temperature</th>\n",
       "      <th>gender</th>\n",
       "      <th>heart_rate</th>\n",
       "    </tr>\n",
       "  </thead>\n",
       "  <tbody>\n",
       "    <tr>\n",
       "      <th>7</th>\n",
       "      <td>98.8</td>\n",
       "      <td>M</td>\n",
       "      <td>78.0</td>\n",
       "    </tr>\n",
       "    <tr>\n",
       "      <th>54</th>\n",
       "      <td>98.2</td>\n",
       "      <td>F</td>\n",
       "      <td>73.0</td>\n",
       "    </tr>\n",
       "    <tr>\n",
       "      <th>72</th>\n",
       "      <td>98.0</td>\n",
       "      <td>M</td>\n",
       "      <td>78.0</td>\n",
       "    </tr>\n",
       "    <tr>\n",
       "      <th>75</th>\n",
       "      <td>98.8</td>\n",
       "      <td>M</td>\n",
       "      <td>78.0</td>\n",
       "    </tr>\n",
       "    <tr>\n",
       "      <th>87</th>\n",
       "      <td>98.0</td>\n",
       "      <td>M</td>\n",
       "      <td>78.0</td>\n",
       "    </tr>\n",
       "    <tr>\n",
       "      <th>127</th>\n",
       "      <td>98.2</td>\n",
       "      <td>F</td>\n",
       "      <td>73.0</td>\n",
       "    </tr>\n",
       "  </tbody>\n",
       "</table>\n",
       "</div>"
      ],
      "text/plain": [
       "     temperature gender  heart_rate\n",
       "7           98.8      M        78.0\n",
       "54          98.2      F        73.0\n",
       "72          98.0      M        78.0\n",
       "75          98.8      M        78.0\n",
       "87          98.0      M        78.0\n",
       "127         98.2      F        73.0"
      ]
     },
     "execution_count": 104,
     "metadata": {},
     "output_type": "execute_result"
    }
   ],
   "source": [
    "#overviw of data: inspect data structure, shape, null values and duplicates.\n",
    "df.head()\n",
    "df.info()\n",
    "df.shape\n",
    "df.isnull().sum()\n",
    "df[df.duplicated(keep=False)]"
   ]
  },
  {
   "cell_type": "markdown",
   "metadata": {},
   "source": [
    "Since this is sample data for an exercise there is no unexpected null data. After looking at the data set, duplicates appear to be coincidence."
   ]
  },
  {
   "cell_type": "markdown",
   "metadata": {},
   "source": [
    "# 1. Is the distribution of body temperatures normal?\n",
    "Although this is not a requirement for the Central Limit Theorem to hold, it gives us some peace of mind that the population may also be normally distributed if we assume that this sample is representative of the population."
   ]
  },
  {
   "cell_type": "code",
   "execution_count": 14,
   "metadata": {},
   "outputs": [
    {
     "name": "stdout",
     "output_type": "stream",
     "text": [
      "Mean temperature =  98.24923076923078\n",
      "Standard deviation = +/-  0.7303577789050377 degrees fahrenheit\n"
     ]
    }
   ],
   "source": [
    "#compute empiricle mean and standard deviation\n",
    "\n",
    "#number of samples:\n",
    "n = len(df['temperature'])\n",
    "\n",
    "#sample mean:\n",
    "x_bar = np.mean(df['temperature'])\n",
    "print('Mean temperature = ', x_bar)\n",
    "\n",
    "#sample standard deviation\n",
    "std = np.std(df['temperature'])\n",
    "\n",
    "print('Standard deviation = +/- ', std, 'degrees fahrenheit')"
   ]
  },
  {
   "cell_type": "code",
   "execution_count": 15,
   "metadata": {},
   "outputs": [
    {
     "name": "stdout",
     "output_type": "stream",
     "text": [
      "[ 99.14924279  98.41875101  98.4556886  ...,  99.09526042  98.69679724\n",
      "  97.88318934]\n"
     ]
    }
   ],
   "source": [
    "#Sample a normal distribution with sample mean and standard deviation with sample size 10,000:\n",
    "samples_normal = np.random.normal(x_bar, std, size=10000)\n",
    "print(samples_normal)"
   ]
  },
  {
   "cell_type": "code",
   "execution_count": 16,
   "metadata": {
    "collapsed": true
   },
   "outputs": [],
   "source": [
    "# Define a function to compute ECDF with a one-dimensional array:\n",
    "def ecdf(data):\n",
    "    \n",
    "    # Number of data points: n\n",
    "    n = len(data)\n",
    "    \n",
    "    # x-data for the ECDF: x\n",
    "    x = np.sort(data)\n",
    "    \n",
    "    # y-data for the ECDF: y\n",
    "    y = np.arange(1, n+1) / n\n",
    "    return x, y"
   ]
  },
  {
   "cell_type": "code",
   "execution_count": 17,
   "metadata": {},
   "outputs": [
    {
     "data": {
      "text/plain": [
       "<function matplotlib.pyplot.show>"
      ]
     },
     "execution_count": 17,
     "metadata": {},
     "output_type": "execute_result"
    },
    {
     "data": {
      "image/png": "[encoded data removed]",
      "text/plain": [
       "<matplotlib.figure.Figure at 0x114e7e198>"
      ]
     },
     "metadata": {},
     "output_type": "display_data"
    }
   ],
   "source": [
    "#Plot the ECDFs\n",
    "x_temp, y_temp = ecdf(df['temperature'])\n",
    "x_normal, y_normal = ecdf(samples_normal)\n",
    "_=plt.plot(x_temp, y_temp, marker='.',linestyle='none')\n",
    "_=plt.plot(x_normal, y_normal, marker='.',linestyle='none')\n",
    "plt.margins(0.02)\n",
    "_=plt.xlabel('Temperature ($^\\circ$F)')\n",
    "_=plt.ylabel('ECDF')\n",
    "_=plt.legend(('normal distribution','data'))\n",
    "plt.show"
   ]
  },
  {
   "cell_type": "code",
   "execution_count": 18,
   "metadata": {},
   "outputs": [
    {
     "data": {
      "image/png": "[encoded data removed]",
      "text/plain": [
       "<matplotlib.figure.Figure at 0x114e494a8>"
      ]
     },
     "metadata": {},
     "output_type": "display_data"
    }
   ],
   "source": [
    "# Plot the PDFs\n",
    "fig = plt.figure(figsize=(7, 10))\n",
    "_ = plt.subplot(3,1,1)\n",
    "_ = plt.hist(samples_normal, bins=50, normed=True, histtype='step')\n",
    "_ = plt.hist(df['temperature'], bins=50, normed=True, histtype='step')\n",
    "_ = plt.xlabel('Temperature ($^\\circ$F)')\n",
    "_ = plt.ylabel('PDF')\n",
    "_ = plt.title('50 bins')\n",
    "_ = plt.legend(('normal distribution', 'data'))\n",
    "\n",
    "_ = plt.subplot(3,1,2)\n",
    "_ = plt.hist(samples_normal, bins=20, normed=True, histtype='step')\n",
    "_ = plt.hist(df['temperature'], bins=20, normed=True, histtype='step')\n",
    "_ = plt.xlabel('Temperature ($^\\circ$F)')\n",
    "_ = plt.ylabel('PDF')\n",
    "_ = plt.title('20 bins')\n",
    "_ = plt.legend(('normal distribution', 'data'))\n",
    "\n",
    "_ = plt.subplot(3,1,3)\n",
    "_ = plt.hist(samples_normal, bins=10, normed=True, histtype='step')\n",
    "_ = plt.hist(df['temperature'], bins=10, normed=True, histtype='step')\n",
    "_ = plt.xlabel('Temperature ($^\\circ$F)')\n",
    "_ = plt.ylabel('PDF')\n",
    "_ = plt.title('10 bins')\n",
    "_ = plt.legend(('normal distribution', 'data'))\n",
    "_ = plt.tight_layout()"
   ]
  },
  {
   "cell_type": "markdown",
   "metadata": {},
   "source": [
    "* It is evident by using both the ECDF and PDF plots that the data of body temperature is normally distributed."
   ]
  },
  {
   "cell_type": "markdown",
   "metadata": {},
   "source": [
    "# 2. Is the sample size large? Are the observations independent?\n",
    "Remember that this is a condition for the Central Limit Theorem, and hence the statistical tests we are using, to apply."
   ]
  },
  {
   "cell_type": "code",
   "execution_count": 19,
   "metadata": {},
   "outputs": [
    {
     "name": "stdout",
     "output_type": "stream",
     "text": [
      "130\n"
     ]
    }
   ],
   "source": [
    "#number of samples:\n",
    "n = len(df['temperature'])\n",
    "print(n)"
   ]
  },
  {
   "cell_type": "markdown",
   "metadata": {},
   "source": [
    "* The sample size n = 130 is large (n > 30)."
   ]
  },
  {
   "cell_type": "markdown",
   "metadata": {},
   "source": [
    "* The observations are independent of one another. Each temperature is taken from a separate person and each temperature is independent from the last observation."
   ]
  },
  {
   "cell_type": "markdown",
   "metadata": {},
   "source": [
    "# 3. Is the true population mean really 98.6 degrees F?"
   ]
  },
  {
   "cell_type": "markdown",
   "metadata": {},
   "source": [
    "First, try a bootstrap hypothesis test. Now, let's try frequentist statistical testing. Would you use a one-sample or two-sample test? Why? \n",
    "\n",
    "In this situation, is it appropriate to use the  t  or  z  statistic? Now try using the other test. How is the result be different? Why?"
   ]
  },
  {
   "cell_type": "markdown",
   "metadata": {},
   "source": [
    "* In this test I would use a one-sample test because there is one set of data that we are comparing to a single value.\n",
    "\n",
    "* Since we have a large sample size but we do not know the population standard deviation it is appropriate to use the t-statistic."
   ]
  },
  {
   "cell_type": "markdown",
   "metadata": {
    "collapsed": true
   },
   "source": [
    "Null Hypothesis: The true population mean is equal to the conventional mean (98.6∘F). H0: μ − 98.6 = 0, α=0.01"
   ]
  },
  {
   "cell_type": "markdown",
   "metadata": {},
   "source": [
    "Significance level: 99.9% confidence ratio"
   ]
  },
  {
   "cell_type": "code",
   "execution_count": 20,
   "metadata": {},
   "outputs": [
    {
     "name": "stdout",
     "output_type": "stream",
     "text": [
      "t-statistic: -5.45482329236\n",
      "p-value: 2.41063204156e-07\n"
     ]
    }
   ],
   "source": [
    "# One sample t-test:\n",
    "t = stats.ttest_1samp(df.temperature, 98.6)[0]\n",
    "p = stats.ttest_1samp(df.temperature, 98.6)[1]\n",
    "\n",
    "print('t-statistic:', t)\n",
    "print('p-value:', p)"
   ]
  },
  {
   "cell_type": "code",
   "execution_count": 21,
   "metadata": {},
   "outputs": [
    {
     "name": "stdout",
     "output_type": "stream",
     "text": [
      "-3.36754645418 3.36754645418\n"
     ]
    }
   ],
   "source": [
    "# The quantiles of the t-distribution corresponding to\n",
    "# confidence level and degrees of freedom:\n",
    "n = 130\n",
    "print((stats.t.ppf(q=0.0005, df= n-1)), (stats.t.ppf(q=0.9995, df= n-1)))"
   ]
  },
  {
   "cell_type": "markdown",
   "metadata": {},
   "source": [
    "* Using this method, the t-statistic falls outside the t-distribution corresponding to a 99.9% confidence level. The p-value is below the significance level of 0.01, so the null hypothesis can be rejected."
   ]
  },
  {
   "cell_type": "markdown",
   "metadata": {},
   "source": [
    "* Next lets look at using a z-test. A z-test is not the best fit since we do not know the standard deviation. \n",
    "We will approximate it using the standard error of the mean."
   ]
  },
  {
   "cell_type": "code",
   "execution_count": 24,
   "metadata": {},
   "outputs": [
    {
     "name": "stdout",
     "output_type": "stream",
     "text": [
      "0.0640566146952\n"
     ]
    }
   ],
   "source": [
    "# Standard error of the mean:\n",
    "sem = std/np.sqrt(n)\n",
    "print(sem)"
   ]
  },
  {
   "cell_type": "code",
   "execution_count": 25,
   "metadata": {},
   "outputs": [
    {
     "name": "stdout",
     "output_type": "stream",
     "text": [
      "z-statistic: -5.47592520208\n",
      "p-value: 4.35231516588e-08\n"
     ]
    }
   ],
   "source": [
    "# Z-statistic:\n",
    "z = (x_bar - 98.6) / sem\n",
    "\n",
    "# P-value:\n",
    "p = stats.norm.cdf(z) * 2\n",
    "\n",
    "# Print the values for z and p:\n",
    "print('z-statistic:', z)\n",
    "print('p-value:', p)"
   ]
  },
  {
   "cell_type": "markdown",
   "metadata": {},
   "source": [
    "* The z-statistic is close to the same value as the t-statistic. The p-value is also very low."
   ]
  },
  {
   "cell_type": "markdown",
   "metadata": {},
   "source": [
    "* Another bootstrap test method is to generate many sets of simulated data assuming the null hypothesis is true, then compute the test statistic for each simulated dataset:"
   ]
  },
  {
   "cell_type": "code",
   "execution_count": 27,
   "metadata": {
    "collapsed": true
   },
   "outputs": [],
   "source": [
    "def replicate(data, function):\n",
    "    #Return replicate of a resampled data array.\n",
    "    \n",
    "    # Create the resampled array and return the statistic of interest:\n",
    "    return function(np.random.choice(data, size=len(data)))\n",
    "\n",
    "\n",
    "def draw_replicates(data, function, size=1):\n",
    "    #Draw bootstrap replicates.\n",
    "\n",
    "    # Initialize array of replicates:\n",
    "    replicates = np.empty(size)\n",
    "\n",
    "    # Generate replicates:\n",
    "    for i in range(size):\n",
    "        replicates[i] = replicate(data, function)\n",
    "\n",
    "    return replicates"
   ]
  },
  {
   "cell_type": "code",
   "execution_count": 29,
   "metadata": {},
   "outputs": [
    {
     "name": "stdout",
     "output_type": "stream",
     "text": [
      "p-value = 0.0\n"
     ]
    }
   ],
   "source": [
    "# Seed the random number generator:\n",
    "np.random.seed(10)\n",
    "\n",
    "\n",
    "# Make an array of translated temperatures:\n",
    "translated_temps = df.temperature - x_bar + 98.6\n",
    "\n",
    "# Draw bootstrap replicates of translated temperatures:\n",
    "translated_replicates = draw_replicates(translated_temps, np.mean, 10000)\n",
    "\n",
    "# Compute fraction of replicates that are less than the observed temperature mean:\n",
    "p = np.sum(translated_replicates <= x_bar) / len(translated_replicates)\n",
    "\n",
    "# Print the p-value:\n",
    "print('p-value =', p)"
   ]
  },
  {
   "cell_type": "markdown",
   "metadata": {},
   "source": [
    "* In the t-test, z-test and using hacker statistics the p-value is significantly less than 0.01, so the null hypothesis is rejected. \n",
    "* Therefore there is sufficient evidence to reject the claim that the true population mean is the conventional normal human body temperature of 98.6°F."
   ]
  },
  {
   "cell_type": "markdown",
   "metadata": {},
   "source": [
    "#     4. Draw a small sample of size 10 from the data and repeat both frequentist tests."
   ]
  },
  {
   "cell_type": "markdown",
   "metadata": {},
   "source": [
    "Which one is the correct one to use? What do you notice? What does this tell you about the difference in application of the  tt  and  zz  statistic?"
   ]
  },
  {
   "cell_type": "code",
   "execution_count": 40,
   "metadata": {},
   "outputs": [
    {
     "data": {
      "text/plain": [
       "array([ 98.4,  97.9,  97.1,  98.7,  98.2,  98.4,  98.2,  98.8,  96.7,  96.4])"
      ]
     },
     "execution_count": 40,
     "metadata": {},
     "output_type": "execute_result"
    }
   ],
   "source": [
    "# Seed the random number generator:\n",
    "np.random.seed(15)\n",
    "\n",
    "\n",
    "# Draw a random sample of 10 from the temperature data:\n",
    "sample = np.random.choice(df.temperature, size=10)\n",
    "sample"
   ]
  },
  {
   "cell_type": "code",
   "execution_count": 41,
   "metadata": {},
   "outputs": [
    {
     "name": "stdout",
     "output_type": "stream",
     "text": [
      "t-statistic: -2.68826445858\n",
      "p-value: 0.0248671106512\n"
     ]
    }
   ],
   "source": [
    "# One sample t-test:\n",
    "t = stats.ttest_1samp(sample, 98.6)[0]\n",
    "p = stats.ttest_1samp(sample, 98.6)[1]\n",
    "\n",
    "print('t-statistic:', t)\n",
    "print('p-value:', p)"
   ]
  },
  {
   "cell_type": "code",
   "execution_count": 42,
   "metadata": {},
   "outputs": [
    {
     "name": "stdout",
     "output_type": "stream",
     "text": [
      "z-statistic: -2.83367954733\n",
      "p-value: 0.0046015450048\n"
     ]
    }
   ],
   "source": [
    "# Z-statistic:\n",
    "z = (np.mean(sample) - 98.6) / (np.std(sample)/np.sqrt(len(sample)))\n",
    "\n",
    "# Calculate and save p-value:\n",
    "p = stats.norm.cdf(z) * 2\n",
    "\n",
    "# Print the values for z and p:\n",
    "print('z-statistic:', z)\n",
    "print('p-value:', p)"
   ]
  },
  {
   "cell_type": "code",
   "execution_count": 43,
   "metadata": {},
   "outputs": [
    {
     "name": "stdout",
     "output_type": "stream",
     "text": [
      "-2.26215716274 2.26215716274\n"
     ]
    }
   ],
   "source": [
    "# Quantiles of the t-distribution corresponding to confidence level (95%) and degrees of freedom:\n",
    "print((stats.t.ppf(q=0.025, df=10-1)), (stats.t.ppf(q=0.975, df=10-1)))"
   ]
  },
  {
   "cell_type": "code",
   "execution_count": 44,
   "metadata": {},
   "outputs": [
    {
     "name": "stdout",
     "output_type": "stream",
     "text": [
      "-4.78091258593 4.78091258593\n"
     ]
    }
   ],
   "source": [
    "# Quantiles of the t-distribution corresponding to confidence level (99.9%) and degrees of freedom:\n",
    "print((stats.t.ppf(q=0.0005, df=10-1)), (stats.t.ppf(q=0.9995, df=10-1)))"
   ]
  },
  {
   "cell_type": "markdown",
   "metadata": {},
   "source": [
    "* The null hypothesis using both the z-test statistic and t-test statistic should be rejected with a 95% confidence level but not a 99.9% confidence level.\n",
    "\n",
    "* The p-value of 0.025 using the t-test is small enough to give evidence to reject the null hypothesis at the 95% confidence level (0.025) but not quite at the 99% confidence level (0.005). The p-value of 0.0046 using the z-test is small enough to give strong evidence to reject the null hypothesis at both confidence levels.\n",
    "\n",
    "\n",
    "* The difference in results between the t and z tests shows the nature of the two distributions. The t-distribution is wider so there is more variability, making this test less sensitive. \n",
    "\n",
    "* Overall the t-test would be the correct test to use in this case with a sample size of less than 30. This gives us a 95% confidence level to reject the null hypothesis."
   ]
  },
  {
   "cell_type": "markdown",
   "metadata": {
    "collapsed": true
   },
   "source": [
    "# 5. At what temperature should we consider someone's temperature to be \"abnormal\"?"
   ]
  },
  {
   "cell_type": "markdown",
   "metadata": {},
   "source": [
    "As in the previous example, try calculating everything using the boostrap approach, as well as the frequentist approach.\n",
    "Start by computing the margin of error and confidence interval. When calculating the confidence interval, keep in mind that you should use the appropriate formula for one draw, and not N draws."
   ]
  },
  {
   "cell_type": "code",
   "execution_count": 66,
   "metadata": {},
   "outputs": [
    {
     "name": "stdout",
     "output_type": "stream",
     "text": [
      "95% Prediction Interval: (96.81775582674824, 99.680705711713316)\n"
     ]
    }
   ],
   "source": [
    "# 95% prediction interval:\n",
    "PI = stats.norm.interval(0.95, loc=x_bar, scale=std)\n",
    "print('95% Prediction Interval:', PI)"
   ]
  },
  {
   "cell_type": "code",
   "execution_count": 67,
   "metadata": {},
   "outputs": [
    {
     "data": {
      "text/plain": [
       "1.959963984540054"
      ]
     },
     "execution_count": 67,
     "metadata": {},
     "output_type": "execute_result"
    }
   ],
   "source": [
    "# Critical value at 95% confidence:\n",
    "z_critical = norm.ppf(0.975)\n",
    "z_critical"
   ]
  },
  {
   "cell_type": "code",
   "execution_count": 102,
   "metadata": {},
   "outputs": [
    {
     "name": "stdout",
     "output_type": "stream",
     "text": [
      "Margin of Error: 1.43147494248\n",
      "95% Prediction Interval: [ 96.81775583  99.68070571]\n"
     ]
    }
   ],
   "source": [
    "# Margin of error:\n",
    "moe = z_critical * std\n",
    "print('Margin of Error:', moe)\n",
    "\n",
    "# 95% prediction interval:\n",
    "PI = np.array([x_bar - moe, x_bar + moe])\n",
    "print('95% Prediction Interval:', PI)"
   ]
  },
  {
   "cell_type": "markdown",
   "metadata": {},
   "source": [
    "* Since a temperature at or below 95°F is considered hypothermia and a temperature at or above 100°F is a fever, temperatures outside the range of 96.82 to 99.68°F would be abnormal."
   ]
  },
  {
   "cell_type": "markdown",
   "metadata": {},
   "source": [
    "# 6. Is there a significant difference between males and females in normal temperature?\n"
   ]
  },
  {
   "cell_type": "markdown",
   "metadata": {},
   "source": [
    "What testing approach did you use and why?"
   ]
  },
  {
   "cell_type": "markdown",
   "metadata": {},
   "source": [
    "* A permutation test is best since it exactly simulates the null hypothesis. \n",
    "* A two-sample t-test is also works since the means of two independent samples are compared. \n",
    "    * Graphical data analysis:"
   ]
  },
  {
   "cell_type": "code",
   "execution_count": 106,
   "metadata": {},
   "outputs": [
    {
     "data": {
      "text/plain": [
       "Text(0.5,1,'Distribution of Female & Male Body Temperatures')"
      ]
     },
     "execution_count": 106,
     "metadata": {},
     "output_type": "execute_result"
    },
    {
     "data": {
      "image/png": "[encoded data removed]",
      "text/plain": [
       "<matplotlib.figure.Figure at 0x11c4cec50>"
      ]
     },
     "metadata": {},
     "output_type": "display_data"
    }
   ],
   "source": [
    "# Create boxplots for temperature by gender:\n",
    "fig = sns.boxplot(x='gender', y='temperature', data=df)\n",
    "\n",
    "# Increase tick mark font size, label axes and add title:\n",
    "plt.tick_params(axis='x', which='major', labelsize=12)\n",
    "fig = plt.xlabel('Gender', fontsize=12)\n",
    "fig = plt.ylabel('Temperature ($^\\circ$F)')\n",
    "plt.title('Distribution of Female & Male Body Temperatures', fontsize=18)\n",
    "\n",
    "# Display the plots:\n",
    "plt.show()"
   ]
  },
  {
   "cell_type": "code",
   "execution_count": 107,
   "metadata": {},
   "outputs": [
    {
     "name": "stdout",
     "output_type": "stream",
     "text": [
      "Female Sample Size: 65 \n",
      "Female Temperature Mean: 98.39384615384613\n",
      "\n",
      "Male Sample Size: 65 \n",
      "Male Temperature Mean: 98.1046153846154\n"
     ]
    }
   ],
   "source": [
    "# Temperatures filtered by gender:\n",
    "female_temp = df.temperature[df.gender == 'F']\n",
    "male_temp = df.temperature[df.gender == 'M']\n",
    "\n",
    "# Sample Sizes:\n",
    "n_female = len(female_temp)\n",
    "n_male = len(male_temp)\n",
    "\n",
    "# Sample Means:\n",
    "M_female = np.mean(female_temp)\n",
    "M_male = np.mean(male_temp)\n",
    "\n",
    "print('Female Sample Size:', n_female, '\\nFemale Temperature Mean:', M_female)\n",
    "print('\\nMale Sample Size:', n_male, '\\nMale Temperature Mean:', M_male)"
   ]
  },
  {
   "cell_type": "markdown",
   "metadata": {},
   "source": [
    "* Null Hypothesis: There is no significant difference between female and male normal human body temperature.\n",
    "    \n",
    "* Significance Level: 95% Confidence"
   ]
  },
  {
   "cell_type": "code",
   "execution_count": 113,
   "metadata": {
    "collapsed": true
   },
   "outputs": [],
   "source": [
    "# Permutation functions:\n",
    "\n",
    "def permutation_sample(data1, data2):\n",
    "\n",
    "    # Concatenate the data sets:\n",
    "    data = np.concatenate((data1, data2))\n",
    "\n",
    "    # Permute the concatenated array:\n",
    "    permuted_data = np.random.permutation(data)\n",
    "\n",
    "    # Split the permuted array into two samples:\n",
    "    permutation_sample_1 = permuted_data[:len(data1)]\n",
    "    permutation_sample_2 = permuted_data[len(data1):]\n",
    "\n",
    "    return permutation_sample_1, permutation_sample_2\n",
    "\n",
    "\n",
    "def draw_permutation_replicates(data_1, data_2, func, size=1):\n",
    "\n",
    "    # Initialize array of permutation replicates:\n",
    "    permutation_replicates = np.empty(size)\n",
    "\n",
    "    for i in range(size):\n",
    "        # Generate permutation samples:\n",
    "        permutation_sample_1, permutation_sample_2 = permutation_sample(data_1, data_2)\n",
    "\n",
    "        # Compute the test statistic:\n",
    "        permutation_replicates[i] = func(permutation_sample_1, permutation_sample_2)\n",
    "\n",
    "    return permutation_replicates\n",
    "\n",
    "\n",
    "def difference_of_means(data_1, data_2):\n",
    "\n",
    "    # The difference of means of data_1, data_2:\n",
    "    return np.mean(data_1) - np.mean(data_2)"
   ]
  },
  {
   "cell_type": "code",
   "execution_count": 110,
   "metadata": {},
   "outputs": [
    {
     "name": "stdout",
     "output_type": "stream",
     "text": [
      "Difference of Means 0.289230769230727\n",
      "p-value = 0.013\n"
     ]
    }
   ],
   "source": [
    "# Random number generator:\n",
    "np.random.seed(15)\n",
    "\n",
    "\n",
    "# Difference of means:\n",
    "empirical_difference = difference_of_means(female_temp, male_temp)\n",
    "\n",
    "# 10,000 permutation replicates:\n",
    "permutation_replicates = draw_permutation_replicates(female_temp, male_temp, difference_of_means, size=10000)\n",
    "\n",
    "# Fraction of replicates greater than the observed difference of means:\n",
    "p = np.sum(permutation_replicates >= empirical_difference) / len(permutation_replicates)\n",
    "\n",
    "# Print the results:\n",
    "print('Difference of Means', empirical_difference)\n",
    "print('p-value =', p)"
   ]
  },
  {
   "cell_type": "markdown",
   "metadata": {},
   "source": [
    "The null hypothesis is rejected with a p-value of 0.013."
   ]
  },
  {
   "cell_type": "code",
   "execution_count": 114,
   "metadata": {},
   "outputs": [
    {
     "name": "stdout",
     "output_type": "stream",
     "text": [
      "t-statistic: 2.28543453817\n",
      "p-value: 0.0239318831224\n"
     ]
    }
   ],
   "source": [
    "# Results of a two sample t-test:\n",
    "t = stats.ttest_ind(female_temp, male_temp)[0]\n",
    "p = stats.ttest_ind(female_temp, male_temp)[1]\n",
    "\n",
    "print('t-statistic:', t)\n",
    "print('p-value:', p)"
   ]
  },
  {
   "cell_type": "code",
   "execution_count": 115,
   "metadata": {},
   "outputs": [
    {
     "name": "stdout",
     "output_type": "stream",
     "text": [
      "-1.99772965363 1.99772965363\n"
     ]
    }
   ],
   "source": [
    "# The quantiles of the t-distribution corresponding to confidence level and degrees of freedom:\n",
    "print((stats.t.ppf(q=0.025, df=65-1)), (stats.t.ppf(q=0.975, df=65-1)))"
   ]
  },
  {
   "cell_type": "markdown",
   "metadata": {},
   "source": [
    "* A two-sample t-test returned a t-statistic of 2.29 and p-value of 0.024. The null hypothesis here is also rejected."
   ]
  },
  {
   "cell_type": "code",
   "execution_count": 120,
   "metadata": {},
   "outputs": [
    {
     "data": {
      "image/png": "[encoded data removed]",
      "text/plain": [
       "<matplotlib.figure.Figure at 0x11c618da0>"
      ]
     },
     "metadata": {},
     "output_type": "display_data"
    }
   ],
   "source": [
    "# Compute percentiles:\n",
    "percentile = np.array([25,50,75])\n",
    "f_percentiles = np.percentile(df.temperature[df.gender == 'F'], percentile)\n",
    "m_percentiles = np.percentile(df.temperature[df.gender == 'M'], percentile)\n",
    "\n",
    "# Compute ECDFs:\n",
    "fx_temp, fy_temp = ecdf(df.temperature[df.gender == 'F'])\n",
    "mx_temp, my_temp = ecdf(df.temperature[df.gender == 'M'])\n",
    "\n",
    "# Plot both ECDFs on the same plot:\n",
    "fig = plt.plot(fx_temp, fy_temp, marker='.', linestyle='none')\n",
    "fig = plt.plot(mx_temp, my_temp, marker='.', linestyle='none')\n",
    "\n",
    "# Overlay percentiles on each plot:\n",
    "fig = plt.plot(f_percentiles, percentile/100, marker='X', linestyle='none', color='black')\n",
    "fig = plt.plot(m_percentiles, percentile/100, marker='X', linestyle='none', color='black')\n",
    "\n",
    "# Label axes and add legend and a title:\n",
    "fig = plt.xlabel('Temperature ($^\\circ$F)', fontsize=16)\n",
    "fig = plt.ylabel('ECDF')\n",
    "fig = plt.legend(('Female Body Temperature', 'Male Body Temperature', '25$^{th}$, 50$^{th}$, 75$^{th}$ Percentiles'), loc='center right')\n",
    "fig = plt.title('Distribution of Female and Male Body Temperatures', fontsize=18)\n",
    "\n",
    "# Save and display the plots:\n",
    "plt.show()"
   ]
  },
  {
   "cell_type": "markdown",
   "metadata": {},
   "source": [
    "# Write a story with your conclusion in the context of the original problem."
   ]
  },
  {
   "cell_type": "markdown",
   "metadata": {},
   "source": [
    "* Is the distribution of heart rates normal?"
   ]
  },
  {
   "cell_type": "code",
   "execution_count": 122,
   "metadata": {},
   "outputs": [
    {
     "name": "stdout",
     "output_type": "stream",
     "text": [
      "Mean heart rate =  73.76153846153846\n",
      "Standard deviation = +/-  7.034862467797676 beats per minute\n"
     ]
    }
   ],
   "source": [
    "#compute empiricle mean and standard deviation\n",
    "\n",
    "#number of samples:\n",
    "n = len(df['heart_rate'])\n",
    "\n",
    "#sample mean:\n",
    "M = np.mean(df['heart_rate'])\n",
    "print('Mean heart rate = ', M)\n",
    "\n",
    "#sample standard deviation\n",
    "std = np.std(df['heart_rate'])\n",
    "\n",
    "print('Standard deviation = +/- ', std, 'beats per minute')"
   ]
  },
  {
   "cell_type": "code",
   "execution_count": 127,
   "metadata": {},
   "outputs": [
    {
     "name": "stdout",
     "output_type": "stream",
     "text": [
      "[ 77.4065412   78.37738312  74.00137403 ...,  76.35596368  75.72277839\n",
      "  68.7187832 ]\n"
     ]
    }
   ],
   "source": [
    "#Sample a normal distribution with sample mean and standard deviation with sample size 10,000:\n",
    "samples_normal2 = np.random.normal(M, std, size=10000)\n",
    "print(samples_normal2)"
   ]
  },
  {
   "cell_type": "code",
   "execution_count": 124,
   "metadata": {
    "collapsed": true
   },
   "outputs": [],
   "source": [
    "# Define a function to compute ECDF with a one-dimensional array:\n",
    "def ecdf(data):\n",
    "    \n",
    "    # Number of data points: n\n",
    "    n = len(data)\n",
    "    \n",
    "    # x-data for the ECDF: x\n",
    "    x = np.sort(data)\n",
    "    \n",
    "    # y-data for the ECDF: y\n",
    "    y = np.arange(1, n+1) / n\n",
    "    return x, y"
   ]
  },
  {
   "cell_type": "code",
   "execution_count": 128,
   "metadata": {},
   "outputs": [
    {
     "data": {
      "text/plain": [
       "<function matplotlib.pyplot.show>"
      ]
     },
     "execution_count": 128,
     "metadata": {},
     "output_type": "execute_result"
    },
    {
     "data": {
      "image/png": "[encoded data removed]",
      "text/plain": [
       "<matplotlib.figure.Figure at 0x11c99fd30>"
      ]
     },
     "metadata": {},
     "output_type": "display_data"
    }
   ],
   "source": [
    "#Plot the ECDFs\n",
    "x_temp, y_temp = ecdf(df['heart_rate'])\n",
    "x_normal, y_normal = ecdf(samples_normal2)\n",
    "_=plt.plot(x_temp, y_temp, marker='.',linestyle='none')\n",
    "_=plt.plot(x_normal, y_normal, marker='.',linestyle='none')\n",
    "plt.margins(0.02)\n",
    "_=plt.xlabel('Heart Rate')\n",
    "_=plt.ylabel('ECDF')\n",
    "_=plt.legend(('normal distribution','data'))\n",
    "plt.show"
   ]
  },
  {
   "cell_type": "code",
   "execution_count": 130,
   "metadata": {},
   "outputs": [
    {
     "data": {
      "image/png": "[encoded data removed]",
      "text/plain": [
       "<matplotlib.figure.Figure at 0x11cb7a470>"
      ]
     },
     "metadata": {},
     "output_type": "display_data"
    }
   ],
   "source": [
    "# Plot the PDFs\n",
    "fig = plt.figure(figsize=(7, 10))\n",
    "_ = plt.subplot(3,1,1)\n",
    "_ = plt.hist(samples_normal2, bins=50, normed=True, histtype='step')\n",
    "_ = plt.hist(df['heart_rate'], bins=50, normed=True, histtype='step')\n",
    "_ = plt.xlabel('Heart Rate')\n",
    "_ = plt.ylabel('PDF')\n",
    "_ = plt.title('50 bins')\n",
    "_ = plt.legend(('normal distribution', 'data'))\n",
    "\n",
    "_ = plt.subplot(3,1,2)\n",
    "_ = plt.hist(samples_normal2, bins=20, normed=True, histtype='step')\n",
    "_ = plt.hist(df['heart_rate'], bins=20, normed=True, histtype='step')\n",
    "_ = plt.xlabel('Heart Rate')\n",
    "_ = plt.ylabel('PDF')\n",
    "_ = plt.title('20 bins')\n",
    "_ = plt.legend(('normal distribution', 'data'))\n",
    "\n",
    "_ = plt.subplot(3,1,3)\n",
    "_ = plt.hist(samples_normal2, bins=10, normed=True, histtype='step')\n",
    "_ = plt.hist(df['heart_rate'], bins=10, normed=True, histtype='step')\n",
    "_ = plt.xlabel('Heart Rate')\n",
    "_ = plt.ylabel('PDF')\n",
    "_ = plt.title('10 bins')\n",
    "_ = plt.legend(('normal distribution', 'data'))\n",
    "_ = plt.tight_layout()"
   ]
  },
  {
   "cell_type": "markdown",
   "metadata": {},
   "source": [
    "* It is evident by using both the ECDF and PDF plots that the data of heart rates is normally distributed."
   ]
  },
  {
   "cell_type": "markdown",
   "metadata": {},
   "source": [
    "* Is there a relationship between heart rate & temperature?"
   ]
  },
  {
   "cell_type": "code",
   "execution_count": 132,
   "metadata": {},
   "outputs": [
    {
     "data": {
      "text/plain": [
       "<seaborn.axisgrid.JointGrid at 0x11cb73208>"
      ]
     },
     "execution_count": 132,
     "metadata": {},
     "output_type": "execute_result"
    },
    {
     "data": {
      "image/png": "[encoded data removed]",
      "text/plain": [
       "<matplotlib.figure.Figure at 0x11cb732b0>"
      ]
     },
     "metadata": {},
     "output_type": "display_data"
    }
   ],
   "source": [
    "# Figure with a joint plot of temperature and heart rate:\n",
    "fig = sns.jointplot(df.temperature, df.heart_rate)\n",
    "\n",
    "plt.margins(0.125)\n",
    "\n",
    "fig.set_axis_labels('Temperature ($^\\circ$F)', 'Heart Rate', fontsize=14)\n",
    "\n",
    "plt.show()"
   ]
  },
  {
   "cell_type": "markdown",
   "metadata": {},
   "source": [
    "* There is a correlation of 0.25 (p = 0.004)."
   ]
  },
  {
   "cell_type": "code",
   "execution_count": 134,
   "metadata": {
    "collapsed": true
   },
   "outputs": [],
   "source": [
    "#Pearson Correlation Coefficient\n",
    "def pearson_r(x, y):\n",
    "    \n",
    "    # Correlation matrix:\n",
    "    correlation_matrix = np.corrcoef(x, y)\n",
    "\n",
    "    # Return entry [0,1]:\n",
    "    return correlation_matrix[0,1]"
   ]
  },
  {
   "cell_type": "code",
   "execution_count": 135,
   "metadata": {},
   "outputs": [
    {
     "name": "stdout",
     "output_type": "stream",
     "text": [
      "Correlation: 0.253656402721\n",
      "p-value = 0.0019\n"
     ]
    }
   ],
   "source": [
    "# Random number generator:\n",
    "np.random.seed(15)\n",
    "\n",
    "\n",
    "# Empirical correlation:\n",
    "r = pearson_r(df.temperature, df.heart_rate)\n",
    "\n",
    "# Initialize array of permutation replicates:\n",
    "permutation_replicates = np.empty(10000)\n",
    "\n",
    "# Replicates:\n",
    "for i in range(len(permutation_replicates)):\n",
    "    temperature_permuted = np.random.permutation(df.temperature)\n",
    "\n",
    "    # Pearson correlation:\n",
    "    permutation_replicates[i] = pearson_r(temperature_permuted, df.heart_rate)\n",
    "\n",
    "# P-value:\n",
    "p = np.sum(permutation_replicates >= r) / len(permutation_replicates)\n",
    "\n",
    "# Print the results:\n",
    "print('Correlation:', r)\n",
    "print('p-value =', p)"
   ]
  },
  {
   "cell_type": "markdown",
   "metadata": {},
   "source": [
    " * Both p-values 0.004 or 0.002 reject the null hypothesis that there is no relationship between heart rate and temperature. There is a positive correlation."
   ]
  },
  {
   "cell_type": "code",
   "execution_count": 136,
   "metadata": {},
   "outputs": [
    {
     "name": "stdout",
     "output_type": "stream",
     "text": [
      "Slope: 2.44323803861 Intercept: -166.284719418\n"
     ]
    }
   ],
   "source": [
    "# Linear regression:\n",
    "a, b = np.polyfit(df.temperature, df.heart_rate, 1)\n",
    "\n",
    "# Slope and intercept:\n",
    "print('Slope:', a, 'Intercept:', b)"
   ]
  },
  {
   "cell_type": "markdown",
   "metadata": {},
   "source": [
    "* Linear regression returned a slope of 2.44 and an intercept of -166.3. \n",
    "* Theoretically, heart rate can be determined from temperature using this formula:\n",
    "    Heart Rate = 2.44×∘F − 166.3"
   ]
  },
  {
   "cell_type": "code",
   "execution_count": 138,
   "metadata": {
    "collapsed": true
   },
   "outputs": [],
   "source": [
    "# Theoretical data with the same slope and intercept:\n",
    "x = np.array([df.temperature.min()-1, df.temperature.max()+1])\n",
    "y = a*x + b"
   ]
  },
  {
   "cell_type": "code",
   "execution_count": 141,
   "metadata": {},
   "outputs": [
    {
     "data": {
      "image/png": "[encoded data removed]",
      "text/plain": [
       "<matplotlib.figure.Figure at 0x11cc45748>"
      ]
     },
     "metadata": {},
     "output_type": "display_data"
    }
   ],
   "source": [
    "# Empirical data and theoretical linear regression:\n",
    "fig = plt.plot(df.temperature, df.heart_rate, marker='.', linestyle='none')\n",
    "fig = plt.plot(x, y)\n",
    "\n",
    "plt.margins(0.075)\n",
    "\n",
    "fig = plt.xlabel('Temperature ($^\\circ$F)', fontsize=12)\n",
    "fig = plt.ylabel('Heart Rate')\n",
    "fig = plt.legend(('Empirical Data', 'Theoretical Line'), loc='lower right')\n",
    "fig = plt.title('Regression Analysis of Heart Rate on Temperature', fontsize=16)\n",
    "\n",
    "# Display the plots:\n",
    "plt.show()"
   ]
  },
  {
   "cell_type": "markdown",
   "metadata": {},
   "source": [
    "* There appears to be a positive correlation between heart rate and body temperature."
   ]
  }
 ],
 "metadata": {
  "kernelspec": {
   "display_name": "Python 3",
   "language": "python",
   "name": "python3"
  },
  "language_info": {
   "codemirror_mode": {
    "name": "ipython",
    "version": 3
   },
   "file_extension": ".py",
   "mimetype": "text/x-python",
   "name": "python",
   "nbconvert_exporter": "python",
   "pygments_lexer": "ipython3",
   "version": "3.6.3"
  }
 },
 "nbformat": 4,
 "nbformat_minor": 1
}
